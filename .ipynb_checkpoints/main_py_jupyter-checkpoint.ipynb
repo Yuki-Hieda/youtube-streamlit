{
 "metadata": {
  "language_info": {
   "codemirror_mode": {
    "name": "ipython",
    "version": 3
   },
   "file_extension": ".py",
   "mimetype": "text/x-python",
   "name": "python",
   "nbconvert_exporter": "python",
   "pygments_lexer": "ipython3",
   "version": 3
  },
  "orig_nbformat": 2
 },
 "nbformat": 4,
 "nbformat_minor": 2,
 "cells": [
  {
   "cell_type": "code",
   "execution_count": null,
   "metadata": {},
   "outputs": [],
   "source": [
    "import streamlit as st\n",
    "import pandas as pd\n",
    "import numpy as np\n",
    "\n",
    "st.title(\"Udemyで勉強してまーーす\")\n",
    "\n",
    "st.write(\"DataFrame\")\n",
    "\n",
    "df = pd.DataFrame(\n",
    "    np.random.rand(100,2),\n",
    "    columns=[\"lat\",\"lon\"]\n",
    ")\n",
    "\n",
    "# dataframe()でかけば横幅、縦幅を調整できる。(動的)\n",
    "st.dataframe(df.style.highlight_max(axis=0),width=1000,height=1000)\n"
   ]
  },
  {
   "cell_type": "code",
   "execution_count": null,
   "metadata": {},
   "outputs": [],
   "source": [
    "# st.line_chart(df,use_container_width=True)\n",
    "# st.area_chart(df)\n",
    "# st.bar_chart(df)\n",
    "\n",
    "\n",
    "# write()でも書けるが、横幅縦幅を調整できない\n",
    "# st.write(df)\n",
    "\n",
    "# table()であれば静的な表が書ける\n",
    "# st.table(df.style.highlight_max(axis=0))\n",
    "\n",
    "# shift+@でバッククォーテーション(`)\n",
    "# \"\"\"\n",
    "# # 章\n",
    "# ## 節\n",
    "# ### 項\n",
    "\n",
    "# ```python\n",
    "# import streamlit as st\n",
    "# import pandas as pd\n",
    "# import numpy as np\n",
    "# ```\n",
    "\n",
    "\n",
    "# \"\"\""
   ]
  },
  {
   "cell_type": "code",
   "execution_count": null,
   "metadata": {},
   "outputs": [],
   "source": []
  }
 ]
}